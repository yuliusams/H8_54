{
 "cells": [
  {
   "cell_type": "code",
   "execution_count": 1,
   "metadata": {},
   "outputs": [],
   "source": [
    "a=2"
   ]
  },
  {
   "cell_type": "code",
   "execution_count": 2,
   "metadata": {},
   "outputs": [],
   "source": [
    "b=3"
   ]
  },
  {
   "cell_type": "code",
   "execution_count": 3,
   "metadata": {},
   "outputs": [
    {
     "ename": "SyntaxError",
     "evalue": "invalid syntax (<ipython-input-3-5dfbf9491f44>, line 1)",
     "output_type": "error",
     "traceback": [
      "\u001b[1;36m  File \u001b[1;32m\"<ipython-input-3-5dfbf9491f44>\"\u001b[1;36m, line \u001b[1;32m1\u001b[0m\n\u001b[1;33m    if 3>2\u001b[0m\n\u001b[1;37m          ^\u001b[0m\n\u001b[1;31mSyntaxError\u001b[0m\u001b[1;31m:\u001b[0m invalid syntax\n"
     ]
    }
   ],
   "source": [
    "if 3>2\n",
    "a=3"
   ]
  },
  {
   "cell_type": "code",
   "execution_count": 9,
   "metadata": {},
   "outputs": [
    {
     "ename": "IndentationError",
     "evalue": "expected an indented block (<ipython-input-9-de645b78446d>, line 2)",
     "output_type": "error",
     "traceback": [
      "\u001b[1;36m  File \u001b[1;32m\"<ipython-input-9-de645b78446d>\"\u001b[1;36m, line \u001b[1;32m2\u001b[0m\n\u001b[1;33m    x =3\u001b[0m\n\u001b[1;37m    ^\u001b[0m\n\u001b[1;31mIndentationError\u001b[0m\u001b[1;31m:\u001b[0m expected an indented block\n"
     ]
    }
   ],
   "source": [
    "if 3 > 2:\n",
    "x =3\n",
    "else:\n",
    "x = 5"
   ]
  },
  {
   "cell_type": "code",
   "execution_count": 10,
   "metadata": {},
   "outputs": [
    {
     "name": "stdout",
     "output_type": "stream",
     "text": [
      "a itu 2\n"
     ]
    }
   ],
   "source": [
    "if a == 2:\n",
    "    print(\"a itu 2\")\n",
    "else:\n",
    "    print(\"a itu bukan2\")"
   ]
  },
  {
   "cell_type": "code",
   "execution_count": 13,
   "metadata": {},
   "outputs": [
    {
     "name": "stdout",
     "output_type": "stream",
     "text": [
      "Berhasil\n"
     ]
    }
   ],
   "source": [
    "if a / 2:\n",
    "    print(\"Berhasil\")\n",
    "else:\n",
    "    print(\"Gagal\")"
   ]
  },
  {
   "cell_type": "code",
   "execution_count": 14,
   "metadata": {},
   "outputs": [
    {
     "name": "stdout",
     "output_type": "stream",
     "text": [
      "benar\n"
     ]
    }
   ],
   "source": [
    "a=2\n",
    "b=3\n",
    "if a<= 3:\n",
    "    print(\"benar\")\n",
    "else:\n",
    "    print(\"salah\")"
   ]
  },
  {
   "cell_type": "code",
   "execution_count": 16,
   "metadata": {},
   "outputs": [
    {
     "name": "stdout",
     "output_type": "stream",
     "text": [
      "Nilai C =2\n",
      "Nilai D != 2\n"
     ]
    }
   ],
   "source": [
    "c=2\n",
    "d=3\n",
    "if c==2:\n",
    "    print(\"Nilai C =2\")\n",
    "    if d==2:\n",
    "        print(\"Nilai D = 2\")\n",
    "    else:\n",
    "        print(\"Nilai D != 2\")\n",
    "else:\n",
    "    print(\"Nilai C bukan 2\")"
   ]
  },
  {
   "cell_type": "code",
   "execution_count": 29,
   "metadata": {},
   "outputs": [],
   "source": [
    "kota = \"jakarta\"\n",
    "\n"
   ]
  },
  {
   "cell_type": "code",
   "execution_count": 32,
   "metadata": {},
   "outputs": [
    {
     "name": "stdout",
     "output_type": "stream",
     "text": [
      "saya tinggal di jakarta\n"
     ]
    }
   ],
   "source": [
    "if kota == \"jakarta\": #lat 1\n",
    "    print(\"saya tinggal di jakarta\")\n",
    "else:\n",
    "    print(\"saya tinggal bukan di jakarta\")"
   ]
  },
  {
   "cell_type": "code",
   "execution_count": 33,
   "metadata": {},
   "outputs": [
    {
     "name": "stdout",
     "output_type": "stream",
     "text": [
      "saya tinggal di jakarta\n"
     ]
    }
   ],
   "source": [
    "kota = \"jakarta\"\n",
    "if kota == \"jakarta\": #lat 1\n",
    "    print(\"saya tinggal di jakarta\")\n",
    "else:\n",
    "    print(\"saya tinggal bukan di jakarta\")"
   ]
  },
  {
   "cell_type": "code",
   "execution_count": 52,
   "metadata": {},
   "outputs": [],
   "source": [
    "penghasilan = 50_000_000"
   ]
  },
  {
   "cell_type": "code",
   "execution_count": 44,
   "metadata": {},
   "outputs": [
    {
     "name": "stdout",
     "output_type": "stream",
     "text": [
      "Harus Bayar Pajak 15%\n"
     ]
    }
   ],
   "source": [
    "penghasilan = 30_000_000 #lat2\n",
    "if penghasilan >= 50_000_000:\n",
    "    print(\"Harus Bayar Pajak 20%\")\n",
    "elif penghasilan >= 30_000_000 and penghasilan < 50_000_000:\n",
    "    print(\"Harus Bayar Pajak 15%\")\n",
    "elif penghasilan <= 30_000_000:\n",
    "    print(\"Harus Bayar Pajak 10%\")\n",
    "else:\n",
    "    print(\"Maaf masukkan penghasilan dengan benar\")\n"
   ]
  },
  {
   "cell_type": "code",
   "execution_count": 56,
   "metadata": {},
   "outputs": [
    {
     "name": "stdout",
     "output_type": "stream",
     "text": [
      "Saya bayar pajak 15% di jakarta\n"
     ]
    }
   ],
   "source": [
    "kota = \"jakarta\"\n",
    "penghasilan = 34_000_000\n",
    "if kota == \"jakarta\" and penghasilan > 50_000_000:\n",
    "    print(\"Saya bayar pajak 20% di \" + kota)\n",
    "elif kota == \"jakarta\" and 30_000_000 < penghasilan <= 50_000_000:\n",
    "    print(\"Saya bayar pajak 15% di \" + kota)\n",
    "elif kota != \"jakarta\" and penghasilan > 50_000_000:\n",
    "    print(\"Saya bayar pajak 18% \")\n",
    "elif kota != \"jakarta\" and 30_000_000 < penghasilan <= 50_000_000:\n",
    "    print (\" Saya bayar pajak 10%\")\n",
    "else:\n",
    "    print (\"bayar pajak 5%\")"
   ]
  },
  {
   "cell_type": "code",
   "execution_count": 61,
   "metadata": {},
   "outputs": [],
   "source": [
    "string1 =\"vwx\""
   ]
  },
  {
   "cell_type": "code",
   "execution_count": 62,
   "metadata": {},
   "outputs": [],
   "source": [
    "string2 =\"abc\""
   ]
  },
  {
   "cell_type": "raw",
   "metadata": {},
   "source": [
    "string = \"abcde\""
   ]
  },
  {
   "cell_type": "code",
   "execution_count": 63,
   "metadata": {},
   "outputs": [],
   "source": [
    "a=2"
   ]
  },
  {
   "cell_type": "code",
   "execution_count": 64,
   "metadata": {},
   "outputs": [],
   "source": [
    "kota =\"-----,,,,//....jakar---__aa\""
   ]
  },
  {
   "cell_type": "code",
   "execution_count": 65,
   "metadata": {},
   "outputs": [],
   "source": [
    "x = kota "
   ]
  },
  {
   "cell_type": "code",
   "execution_count": 70,
   "metadata": {},
   "outputs": [],
   "source": [
    "n = 2 #modulo %\n",
    "while n > 0:\n",
    "    n += 1\n",
    "    if n % 2 != 0:\n",
    "        break\n",
    "        print(n)\n",
    "        print(\"selesai\")"
   ]
  },
  {
   "cell_type": "code",
   "execution_count": 67,
   "metadata": {},
   "outputs": [
    {
     "data": {
      "text/plain": [
       "0"
      ]
     },
     "execution_count": 67,
     "metadata": {},
     "output_type": "execute_result"
    }
   ],
   "source": [
    "30 % 2"
   ]
  },
  {
   "cell_type": "code",
   "execution_count": 68,
   "metadata": {},
   "outputs": [
    {
     "data": {
      "text/plain": [
       "1"
      ]
     },
     "execution_count": 68,
     "metadata": {},
     "output_type": "execute_result"
    }
   ],
   "source": [
    "29 % 2"
   ]
  },
  {
   "cell_type": "code",
   "execution_count": 77,
   "metadata": {},
   "outputs": [],
   "source": [
    "n = 101 # modulo %\n",
    "while n > 0:\n",
    "    n -= 1\n",
    "    if n % 2 != 0:\n",
    "        break\n",
    "        print(n)\n",
    "        print(\"selesai\")"
   ]
  },
  {
   "cell_type": "code",
   "execution_count": 78,
   "metadata": {},
   "outputs": [
    {
     "data": {
      "text/plain": [
       "15.0"
      ]
     },
     "execution_count": 78,
     "metadata": {},
     "output_type": "execute_result"
    }
   ],
   "source": [
    "30/2\n"
   ]
  },
  {
   "cell_type": "code",
   "execution_count": 79,
   "metadata": {},
   "outputs": [],
   "source": [
    "n = 101 # modulo %\n",
    "while n > 0:\n",
    "    n -= 1\n",
    "    if n % 2 != 0:\n",
    "        break\n",
    "        print(n)\n",
    "        print(\"selesai\")"
   ]
  },
  {
   "cell_type": "code",
   "execution_count": null,
   "metadata": {},
   "outputs": [],
   "source": []
  }
 ],
 "metadata": {
  "kernelspec": {
   "display_name": "Python 3",
   "language": "python",
   "name": "python3"
  },
  "language_info": {
   "codemirror_mode": {
    "name": "ipython",
    "version": 3
   },
   "file_extension": ".py",
   "mimetype": "text/x-python",
   "name": "python",
   "nbconvert_exporter": "python",
   "pygments_lexer": "ipython3",
   "version": "3.8.5"
  }
 },
 "nbformat": 4,
 "nbformat_minor": 4
}
